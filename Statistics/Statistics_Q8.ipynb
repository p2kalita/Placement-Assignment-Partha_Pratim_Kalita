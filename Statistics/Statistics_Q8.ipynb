{
 "cells": [
  {
   "cell_type": "markdown",
   "id": "6a1a7ebb-5d91-4624-b329-4d07da94ecd0",
   "metadata": {},
   "source": [
    "Q-8. The anxiety levels of 10 participants were measured before and after a new therapy.\n",
    "The scores are not normally distributed. Use the Wilcoxon signed-rank test to test whether\n",
    "the therapy had a significant effect on anxiety levels. The data is given below: Participant\n",
    "Before therapy After therapy Difference"
   ]
  },
  {
   "cell_type": "code",
   "execution_count": 6,
   "id": "b763a075-e9f4-489e-b71e-8b3a52d7f543",
   "metadata": {},
   "outputs": [
    {
     "name": "stdout",
     "output_type": "stream",
     "text": [
      "Wilcoxon signed-rank test:\n",
      "Statistic: 0.0\n",
      "p-value: 0.001953125\n",
      "The therapy had a significant effect on anxiety levels.\n"
     ]
    }
   ],
   "source": [
    "import csv\n",
    "import scipy.stats as stats\n",
    "\n",
    "# CSV file\n",
    "filename = \"data_08.csv\"\n",
    "\n",
    "before_therapy = []\n",
    "after_therapy = []\n",
    "\n",
    "with open(filename, \"r\") as file:\n",
    "    reader = csv.DictReader(file)\n",
    "    for row in reader:\n",
    "        before_therapy.append(int(row[\"Before Therapy\"]))\n",
    "        after_therapy.append(int(row[\"After Therapy\"]))\n",
    "\n",
    "differences = [after - before for after, before in zip(after_therapy, before_therapy)]\n",
    "\n",
    "# Wilcoxon signed-rank test\n",
    "statistic, p_value = stats.wilcoxon(differences)\n",
    "\n",
    "# result\n",
    "print(\"Wilcoxon signed-rank test:\")\n",
    "print(f\"Statistic: {statistic}\")\n",
    "print(f\"p-value: {p_value}\")\n",
    "\n",
    "# alpha level\n",
    "alpha = 0.05\n",
    "if p_value < alpha:\n",
    "    print(\"The therapy had a significant effect on anxiety levels.\")\n",
    "else:\n",
    "    print(\"The therapy did not have a significant effect on anxiety levels.\")\n",
    "\n"
   ]
  },
  {
   "cell_type": "code",
   "execution_count": null,
   "id": "19fb2e6a-d9ed-456f-8646-446a9633ae5a",
   "metadata": {},
   "outputs": [],
   "source": []
  }
 ],
 "metadata": {
  "kernelspec": {
   "display_name": "Python 3 (ipykernel)",
   "language": "python",
   "name": "python3"
  },
  "language_info": {
   "codemirror_mode": {
    "name": "ipython",
    "version": 3
   },
   "file_extension": ".py",
   "mimetype": "text/x-python",
   "name": "python",
   "nbconvert_exporter": "python",
   "pygments_lexer": "ipython3",
   "version": "3.10.8"
  }
 },
 "nbformat": 4,
 "nbformat_minor": 5
}
