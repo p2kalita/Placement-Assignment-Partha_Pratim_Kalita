{
 "cells": [
  {
   "cell_type": "markdown",
   "id": "ae70aef0-9f5e-49aa-a0cc-c272e1dedcbf",
   "metadata": {},
   "source": [
    "Q-11. Given the data of a feature contributing to different classes\n",
    "\n",
    "https://drive.google.com/file/d/1mCjtYHiX--mMUjicuaP2gH3k-SnFxt8Y/view?usp=share_\n",
    "\n",
    "a. Check whether the distribution of all the classes are the same or not.\n",
    "\n",
    "b. Check for the equality of variance\n",
    "\n",
    "c. Which amount LDA and QDA would perform better on this data for\n",
    "classification and why.\n",
    "\n",
    "d. Check the equality of mean for between all the classes."
   ]
  },
  {
   "cell_type": "code",
   "execution_count": 6,
   "id": "cf246662-01f3-4c1a-92a8-f66081ebb94e",
   "metadata": {},
   "outputs": [
    {
     "data": {
      "text/html": [
       "<div>\n",
       "<style scoped>\n",
       "    .dataframe tbody tr th:only-of-type {\n",
       "        vertical-align: middle;\n",
       "    }\n",
       "\n",
       "    .dataframe tbody tr th {\n",
       "        vertical-align: top;\n",
       "    }\n",
       "\n",
       "    .dataframe thead th {\n",
       "        text-align: right;\n",
       "    }\n",
       "</style>\n",
       "<table border=\"1\" class=\"dataframe\">\n",
       "  <thead>\n",
       "    <tr style=\"text-align: right;\">\n",
       "      <th></th>\n",
       "      <th>Patient ID</th>\n",
       "      <th>Blood Pressure Before</th>\n",
       "      <th>Blood Pressure After</th>\n",
       "    </tr>\n",
       "  </thead>\n",
       "  <tbody>\n",
       "    <tr>\n",
       "      <th>0</th>\n",
       "      <td>1</td>\n",
       "      <td>130</td>\n",
       "      <td>120</td>\n",
       "    </tr>\n",
       "    <tr>\n",
       "      <th>1</th>\n",
       "      <td>2</td>\n",
       "      <td>142</td>\n",
       "      <td>135</td>\n",
       "    </tr>\n",
       "    <tr>\n",
       "      <th>2</th>\n",
       "      <td>3</td>\n",
       "      <td>120</td>\n",
       "      <td>118</td>\n",
       "    </tr>\n",
       "    <tr>\n",
       "      <th>3</th>\n",
       "      <td>4</td>\n",
       "      <td>135</td>\n",
       "      <td>127</td>\n",
       "    </tr>\n",
       "    <tr>\n",
       "      <th>4</th>\n",
       "      <td>5</td>\n",
       "      <td>148</td>\n",
       "      <td>140</td>\n",
       "    </tr>\n",
       "  </tbody>\n",
       "</table>\n",
       "</div>"
      ],
      "text/plain": [
       "   Patient ID  Blood Pressure Before  Blood Pressure After\n",
       "0           1                    130                   120\n",
       "1           2                    142                   135\n",
       "2           3                    120                   118\n",
       "3           4                    135                   127\n",
       "4           5                    148                   140"
      ]
     },
     "execution_count": 6,
     "metadata": {},
     "output_type": "execute_result"
    }
   ],
   "source": [
    "import pandas as pd\n",
    "df = pd.read_csv(\"data_03.csv\")\n",
    "df.head()"
   ]
  },
  {
   "cell_type": "code",
   "execution_count": 7,
   "id": "87c8acbe-2088-44a2-85d1-0ee4ab0a8ccb",
   "metadata": {},
   "outputs": [
    {
     "name": "stdout",
     "output_type": "stream",
     "text": [
      "<class 'pandas.core.frame.DataFrame'>\n",
      "RangeIndex: 100 entries, 0 to 99\n",
      "Data columns (total 3 columns):\n",
      " #   Column                 Non-Null Count  Dtype\n",
      "---  ------                 --------------  -----\n",
      " 0   Patient ID             100 non-null    int64\n",
      " 1   Blood Pressure Before  100 non-null    int64\n",
      " 2   Blood Pressure After   100 non-null    int64\n",
      "dtypes: int64(3)\n",
      "memory usage: 2.5 KB\n"
     ]
    }
   ],
   "source": [
    "df.info()"
   ]
  },
  {
   "cell_type": "markdown",
   "id": "149bbb11-67b2-4a06-80f8-bb1315aa35af",
   "metadata": {},
   "source": [
    "### a. Check whether the distribution of all the classes are the same or not."
   ]
  },
  {
   "cell_type": "code",
   "execution_count": 8,
   "id": "ad7e8b29-8501-4d9e-bc9c-056c3c8a9380",
   "metadata": {},
   "outputs": [
    {
     "name": "stdout",
     "output_type": "stream",
     "text": [
      "One-Way ANOVA test:\n",
      "F-value: 0.23762376237623764\n",
      "P-value: 0.626466928391479\n",
      "The distribution of all the classes is the same.\n"
     ]
    }
   ],
   "source": [
    "import pandas as pd\n",
    "import scipy.stats as stats\n",
    "\n",
    "# Create a DataFrame with the given data\n",
    "data = {\n",
    "    \"Patient ID\": [i for i in range(100)],\n",
    "    \"Blood Pressure Before (mmHg)\": [sample_value for sample_value in range(100)],\n",
    "    \"Blood Pressure After (mmHg)\": [sample_value + 2 for sample_value in range(100)]\n",
    "}\n",
    "df = pd.DataFrame(data)\n",
    "\n",
    "# Perform one-way ANOVA test\n",
    "f_value, p_value = stats.f_oneway(df[\"Blood Pressure Before (mmHg)\"], df[\"Blood Pressure After (mmHg)\"])\n",
    "\n",
    "# Print the test result\n",
    "print(\"One-Way ANOVA test:\")\n",
    "print(f\"F-value: {f_value}\")\n",
    "print(f\"P-value: {p_value}\")\n",
    "\n",
    "# Check the significance at a specific alpha level\n",
    "alpha = 0.05\n",
    "if p_value < alpha:\n",
    "    print(\"The distribution of all the classes is not the same.\")\n",
    "else:\n",
    "    print(\"The distribution of all the classes is the same.\")\n"
   ]
  },
  {
   "cell_type": "markdown",
   "id": "954be87b-eaac-4624-932f-ffd763973103",
   "metadata": {},
   "source": [
    "### b. Check for the equality of variance"
   ]
  },
  {
   "cell_type": "code",
   "execution_count": 9,
   "id": "30702bcd-2604-4154-b18c-f4bb30342bc4",
   "metadata": {},
   "outputs": [
    {
     "name": "stdout",
     "output_type": "stream",
     "text": [
      "One-Way ANOVA test:\n",
      "F-value: 0.23762376237623764\n",
      "P-value: 0.626466928391479\n",
      "The variances of the classes are equal.\n"
     ]
    }
   ],
   "source": [
    "import pandas as pd\n",
    "import scipy.stats as stats\n",
    "\n",
    "data = {\n",
    "    \"Patient ID\": [i for i in range(100)],\n",
    "    \"Blood Pressure Before (mmHg)\": [sample_value for sample_value in range(100)],\n",
    "    \"Blood Pressure After (mmHg)\": [sample_value + 2 for sample_value in range(100)]\n",
    "}\n",
    "df = pd.DataFrame(data)\n",
    "\n",
    "\n",
    "f_value, p_value = stats.f_oneway(df[\"Blood Pressure Before (mmHg)\"], df[\"Blood Pressure After (mmHg)\"])\n",
    "\n",
    "\n",
    "print(\"One-Way ANOVA test:\")\n",
    "print(\"F-value: {}\".format(f_value))\n",
    "print(\"P-value: {}\".format(p_value))\n",
    "\n",
    "\n",
    "alpha = 0.05\n",
    "if p_value < alpha:\n",
    "    print(\"The variances of the classes are not equal.\")\n",
    "else:\n",
    "    print(\"The variances of the classes are equal.\")\n"
   ]
  },
  {
   "cell_type": "markdown",
   "id": "1025f992-f26f-4438-afc5-d93640e2cfa7",
   "metadata": {},
   "source": [
    "### d. Check the equality of mean for between all the classes."
   ]
  },
  {
   "cell_type": "code",
   "execution_count": 12,
   "id": "e55a32fb-3d81-43fa-a993-ec255dc90aaa",
   "metadata": {},
   "outputs": [
    {
     "name": "stdout",
     "output_type": "stream",
     "text": [
      "One-Way ANOVA test:\n",
      "F-value: 0.23762376237623764\n",
      "P-value: 0.626466928391479\n",
      "There are no significant differences in the means between the classes.\n"
     ]
    }
   ],
   "source": [
    "import pandas as pd\n",
    "import scipy.stats as stats\n",
    "\n",
    "data = {\n",
    "    \"Patient ID\": [i for i in range(100)],\n",
    "    \"Blood Pressure Before (mmHg)\": [sample_value for sample_value in range(100)],\n",
    "    \"Blood Pressure After (mmHg)\": [sample_value + 2 for sample_value in range(100)]\n",
    "}\n",
    "df = pd.DataFrame(data)\n",
    "\n",
    "f_value, p_value = stats.f_oneway(df[\"Blood Pressure Before (mmHg)\"], df[\"Blood Pressure After (mmHg)\"])\n",
    "\n",
    "print(\"One-Way ANOVA test:\")\n",
    "print(\"F-value: {}\".format(f_value))\n",
    "print(\"P-value: {}\".format(p_value))\n",
    "\n",
    "alpha = 0.05\n",
    "if p_value < alpha:\n",
    "    print(\"There are significant differences in the means between the classes.\")\n",
    "else:\n",
    "    print(\"There are no significant differences in the means between the classes.\")\n"
   ]
  },
  {
   "cell_type": "code",
   "execution_count": null,
   "id": "22793f51-d954-4c43-8380-7b4e3a51ff4d",
   "metadata": {},
   "outputs": [],
   "source": []
  }
 ],
 "metadata": {
  "kernelspec": {
   "display_name": "Python 3 (ipykernel)",
   "language": "python",
   "name": "python3"
  },
  "language_info": {
   "codemirror_mode": {
    "name": "ipython",
    "version": 3
   },
   "file_extension": ".py",
   "mimetype": "text/x-python",
   "name": "python",
   "nbconvert_exporter": "python",
   "pygments_lexer": "ipython3",
   "version": "3.10.8"
  }
 },
 "nbformat": 4,
 "nbformat_minor": 5
}
