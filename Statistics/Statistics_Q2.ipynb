{
 "cells": [
  {
   "cell_type": "markdown",
   "id": "c747063a",
   "metadata": {},
   "source": [
    "# "
   ]
  },
  {
   "cell_type": "markdown",
   "id": "5f570ab2",
   "metadata": {},
   "source": [
    "### Q2. Consider a dataset containing the heights (in centimeters) of 1000 individuals. The mean height is 170 cm with a standard deviation of 10 cm. The dataset is approximately normally distributed, and its skewness is approximately zero. Based on this information, answer the following questions:"
   ]
  },
  {
   "cell_type": "markdown",
   "id": "ee0e7416",
   "metadata": {},
   "source": [
    "### a. What percentage of individuals in the dataset have heights between 160 cm and 180 cm?"
   ]
  },
  {
   "cell_type": "markdown",
   "id": "181a93b0",
   "metadata": {},
   "source": [
    "To calculate the percentage of individuals in the dataset with heights between 160 cm and 180 cm, we need to find the z-scores corresponding to these heights and then calculate the area under the normal distribution curve between these z-scores.\n",
    "\n",
    "The z-score formula is given by: z = (x - μ) / σ, where x is the value, μ is the mean, and σ is the standard deviation.\n",
    "\n",
    "For 160 cm:\n",
    "z1 = (160 - 170) / 10 = -1\n",
    "\n",
    "For 180 cm:\n",
    "z2 = (180 - 170) / 10 = 1\n",
    "\n",
    "Now, we can use a standard normal distribution table or a calculator to find the area between z1 and z2. Since the dataset is approximately normally distributed and has a skewness close to zero, we can assume that the normal distribution approximation is valid.\n",
    "\n",
    "Using a standard normal distribution table or calculator, the area between z1 and z2 is approximately 0.6826, which corresponds to 68.26% of individuals in the dataset having heights between 160 cm and 180 cm."
   ]
  },
  {
   "cell_type": "markdown",
   "id": "06738f02",
   "metadata": {},
   "source": [
    "### b. If we randomly select 100 individuals from the dataset, what is the probability that their average height is greater than 175 cm?"
   ]
  },
  {
   "cell_type": "markdown",
   "id": "da6b2e4b",
   "metadata": {},
   "source": [
    "To calculate the probability that the average height of 100 randomly selected individuals is greater than 175 cm, we need to consider the sampling distribution of the sample mean.\n",
    "\n",
    "The mean of the sampling distribution of the sample mean is equal to the population mean, which is 170 cm. The standard deviation of the sampling distribution of the sample mean, also known as the standard error, is equal to the population standard deviation divided by the square root of the sample size. In this case, it is 10 cm / sqrt(100) = 1 cm.\n",
    "\n",
    "Now, we need to find the z-score corresponding to a height of 175 cm using the formula: z = (x - μ) / σ.\n",
    "\n",
    "z = (175 - 170) / 1 = 5\n",
    "\n",
    "Using a standard normal distribution table or calculator, we can find the probability of obtaining a z-score greater than 5. The probability is extremely small, close to 0."
   ]
  },
  {
   "cell_type": "markdown",
   "id": "d0c7d233",
   "metadata": {},
   "source": [
    "### c. Assuming the dataset follows a normal distribution, what is the z-score corresponding to a height of 185cm?"
   ]
  },
  {
   "cell_type": "markdown",
   "id": "b25c3150",
   "metadata": {},
   "source": [
    "To calculate the z-score corresponding to a height of 185 cm, we can use the same formula as before:\n",
    "\n",
    "z = (185 - 170) / 10 = 1.5\n",
    "\n",
    "So, the z-score corresponding to a height of 185 cm is 1.5.\n"
   ]
  },
  {
   "cell_type": "markdown",
   "id": "e94a8d00",
   "metadata": {},
   "source": [
    "### d. We know that 5% of the dataset has heights below a certain value. What is the approximate height corresponding to this threshold?"
   ]
  },
  {
   "cell_type": "markdown",
   "id": "45b35df0",
   "metadata": {},
   "source": [
    "To find the approximate height corresponding to a threshold below which 5% of the dataset falls, we need to find the z-score corresponding to this probability.\n",
    "\n",
    "Using a standard normal distribution table or calculator, we find that the z-score corresponding to a cumulative probability of 0.05 (5%) is approximately -1.645.\n",
    "\n",
    "Now, we can use the z-score formula to find the height:\n",
    "\n",
    "-1.645 = (x - 170) / 10\n",
    "\n",
    "Solving for x, we get:\n",
    "\n",
    "x = -1.645 * 10 + 170 = 153.55\n",
    "\n",
    "So, the approximate height corresponding to the threshold is 153.55 cm."
   ]
  },
  {
   "cell_type": "markdown",
   "id": "224d46e0",
   "metadata": {},
   "source": [
    "### e. Calculate the coefficient of variation (CV) for the dataset."
   ]
  },
  {
   "cell_type": "markdown",
   "id": "1380ce35",
   "metadata": {},
   "source": [
    "The coefficient of variation (CV) is a measure of relative variability and is calculated as the ratio of the standard deviation to the mean, expressed as a percentage.\n",
    "\n",
    "CV = (standard deviation / mean) * 100\n",
    "\n",
    "In this case, the standard deviation is 10 cm and the mean is 170 cm.\n",
    "\n",
    "CV = (10 / 170) * 100 = 5.88%\n",
    "\n",
    "Therefore, the coefficient of variation for the dataset is approximately 5.88%."
   ]
  },
  {
   "cell_type": "markdown",
   "id": "b3348f55",
   "metadata": {},
   "source": [
    "### f. Calculate the skewness of the dataset and interpret the result."
   ]
  },
  {
   "cell_type": "markdown",
   "id": "9f1e8361",
   "metadata": {},
   "source": [
    "The skewness of a dataset measures the asymmetry of its distribution. A skewness close to zero suggests that the dataset is approximately symmetric.\n",
    "\n",
    "In this case, the dataset has a skewness approximately equal to zero, indicating that the dataset is relatively symmetrical and follows a normal distribution or a distribution with similar characteristics. This means that the data is evenly distributed around the mean, with an equal number of values on both sides."
   ]
  }
 ],
 "metadata": {
  "kernelspec": {
   "display_name": "Python 3 (ipykernel)",
   "language": "python",
   "name": "python3"
  },
  "language_info": {
   "codemirror_mode": {
    "name": "ipython",
    "version": 3
   },
   "file_extension": ".py",
   "mimetype": "text/x-python",
   "name": "python",
   "nbconvert_exporter": "python",
   "pygments_lexer": "ipython3",
   "version": "3.10.9"
  }
 },
 "nbformat": 4,
 "nbformat_minor": 5
}
