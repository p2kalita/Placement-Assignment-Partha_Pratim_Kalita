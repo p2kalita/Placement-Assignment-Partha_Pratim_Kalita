{
 "cells": [
  {
   "cell_type": "markdown",
   "id": "64f5a332-5a23-4d6f-bc1c-9ac689852651",
   "metadata": {},
   "source": [
    "Q-7. The equations of two lines of regression, obtained in a correlation analysis\n",
    "between variables X and Y are as follows:\n",
    "and . \n",
    "2𝑋 + 3 − 8 = 0 \n",
    "\n",
    "2𝑌 + 𝑋 − 5 = 0 \n",
    "\n",
    "The variance of 𝑋 = 4 Find the\n",
    "\n",
    "a. Variance of Y\n",
    "\n",
    "b. Coefficient of determination of C and Y\n",
    "\n",
    "c. Standard error of estimate of X on Y and of Y on X"
   ]
  },
  {
   "cell_type": "markdown",
   "id": "a62671f5-93f0-4f49-b54a-fda7ad7a244b",
   "metadata": {},
   "source": [
    "#### a. Variance of Y"
   ]
  },
  {
   "cell_type": "markdown",
   "id": "a500e7f9-a499-4a6c-bffd-611297673fd6",
   "metadata": {},
   "source": [
    "Since the variance of X is given as 4\n",
    "\n",
    "Then Var(X) = Var(Y) since the regression lines are linear. \n",
    "\n",
    "#### Therefore, the variance of Y is also 4."
   ]
  },
  {
   "cell_type": "markdown",
   "id": "ad4d30b4-93da-4f76-8013-46295ab3e008",
   "metadata": {},
   "source": [
    "### b. Coefficient of determination of C and Y"
   ]
  },
  {
   "cell_type": "markdown",
   "id": "aa766145-1e25-4766-96a3-2f0a22706124",
   "metadata": {},
   "source": [
    "The coefficient of determination cannot be determined in this case."
   ]
  },
  {
   "cell_type": "markdown",
   "id": "8e44d2f2-b87e-4f83-8953-0c20b61c041b",
   "metadata": {},
   "source": [
    "### c. Standard error of estimate of X on Y and of Y on X"
   ]
  },
  {
   "cell_type": "markdown",
   "id": "33780819-a057-485e-ace9-5fba719b88e7",
   "metadata": {},
   "source": [
    "To calculate the standard error of estimate, we need the residuals for each value of X.\n",
    "\n",
    "For X = 5/2:\n",
    "Y = 5/4 \n",
    "Y_pred = 5/4 \n",
    "Residual = (5/4) - (5/4) = 0\n",
    "\n",
    "For X = 0:\n",
    "Y = 5/4 \n",
    "Y_pred = 5/4 \n",
    "Residual = (5/4) - (5/4) = 0\n",
    "\n",
    "For X = -5/2:\n",
    "Y = 5/4\n",
    "Y_pred = 5/4 \n",
    "Residual = (5/4) - (5/4) = 0\n",
    "\n",
    "#### Since the residuals are all zero, the standard error of estimate is also zero.\n"
   ]
  },
  {
   "cell_type": "code",
   "execution_count": null,
   "id": "dbb44031-eb8b-4eb5-be04-ec5c905b1ef2",
   "metadata": {},
   "outputs": [],
   "source": []
  }
 ],
 "metadata": {
  "kernelspec": {
   "display_name": "Python 3 (ipykernel)",
   "language": "python",
   "name": "python3"
  },
  "language_info": {
   "codemirror_mode": {
    "name": "ipython",
    "version": 3
   },
   "file_extension": ".py",
   "mimetype": "text/x-python",
   "name": "python",
   "nbconvert_exporter": "python",
   "pygments_lexer": "ipython3",
   "version": "3.10.8"
  }
 },
 "nbformat": 4,
 "nbformat_minor": 5
}
