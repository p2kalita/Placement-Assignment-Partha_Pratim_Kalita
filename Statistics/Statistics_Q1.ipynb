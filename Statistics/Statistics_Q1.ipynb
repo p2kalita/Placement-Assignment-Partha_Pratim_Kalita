{
 "cells": [
  {
   "cell_type": "markdown",
   "id": "1b54aa6d",
   "metadata": {},
   "source": [
    "### Q1.A university wants to understand the relationship between the SAT scores of its applicants and their college GPA. They collect data on 500 students, including their SAT scores (out of 1600) and their college GPA (on a 4.0 scale). They find that the correlationcoefficient between SAT scores and college GPA is 0.7. What does this correlation coefficient indicate about the relationship between SAT scores and college GPA? "
   ]
  },
  {
   "cell_type": "markdown",
   "id": "6a734e25",
   "metadata": {},
   "source": [
    "Ans 1. In general, a correlation coefficient ranges from -1 to +1, where -1 represents a perfect negative correlation, +1 represents a perfect positive correlation, and 0 indicates no correlation. The closer the correlation coefficient is to -1 or +1, the stronger the relationship.\n",
    "\n",
    "In this case, a correlation coefficient of 0.7 suggests that there is a strong positive relationship between SAT scores and college GPA. It means that as SAT scores increase, there is a tendency for college GPAs to also increase. However, it's important to note that correlation does not imply causation. While there is a strong association between SAT scores and college GPA, it does not necessarily mean that SAT scores directly cause higher college GPAs. Other factors or variables may also contribute to the relationship."
   ]
  }
 ],
 "metadata": {
  "kernelspec": {
   "display_name": "Python 3 (ipykernel)",
   "language": "python",
   "name": "python3"
  },
  "language_info": {
   "codemirror_mode": {
    "name": "ipython",
    "version": 3
   },
   "file_extension": ".py",
   "mimetype": "text/x-python",
   "name": "python",
   "nbconvert_exporter": "python",
   "pygments_lexer": "ipython3",
   "version": "3.10.9"
  }
 },
 "nbformat": 4,
 "nbformat_minor": 5
}
