{
 "cells": [
  {
   "cell_type": "markdown",
   "id": "d713098b-2f3c-4448-b12f-05d6df56bb67",
   "metadata": {},
   "source": [
    "Q-10. A factory produces light bulbs, and the probability of a bulb being defective is 0.05.\n",
    "The factory produces a large batch of 500 light bulbs.\n",
    "\n",
    "a. What is the probability that exactly 20 bulbs are defective?\n",
    "\n",
    "b. What is the probability that at least 10 bulbs are defective?\n",
    "\n",
    "c. What is the probability that at max 15 bulbs are defective?\n",
    "\n",
    "d. On average, how many defective bulbs would you expect in a batch of 500?"
   ]
  },
  {
   "cell_type": "markdown",
   "id": "7f7575fc-2ed3-4fa6-b13b-9fbf18a5601e",
   "metadata": {},
   "source": [
    "#### p: Probability of a bulb being defective = 0.05\n",
    "#### n: Total number of bulbs in the batch = 500"
   ]
  },
  {
   "cell_type": "markdown",
   "id": "006f3425-c193-4d56-87a2-0571e0987ee9",
   "metadata": {},
   "source": [
    "### a. What is the probability that exactly 20 bulbs are defective?"
   ]
  },
  {
   "cell_type": "markdown",
   "id": "500faddc-3941-4953-a5fa-4113df28e76f",
   "metadata": {},
   "source": [
    "P(X = k) = C(n, k) * p^k * (1-p)^(n-k)\n",
    "\n",
    "P(X = 20) = C(500, 20) * (0.05)^20 * (1-0.05)^(500-20)\n",
    "\n",
    "P(X = 20) = 0.1396\n",
    "\n",
    "#### Probability that exactly 20 bulbs are defective = 13.96%"
   ]
  },
  {
   "cell_type": "markdown",
   "id": "424a06bf-05a7-44e9-9cea-9c298c2724cc",
   "metadata": {},
   "source": [
    "### b. What is the probability that at least 10 bulbs are defective?\n",
    "\n"
   ]
  },
  {
   "cell_type": "markdown",
   "id": "9f81c34b-1444-4936-baf4-cb4d5a8ab8e0",
   "metadata": {},
   "source": [
    "P(X >= 10) = 1 - P(X < 10)\n",
    "\n",
    "P(X >= 10) = 1 - P(X = 0) - P(X = 1) - P(X = 2) - ... - P(X = 9)\n",
    "\n",
    "P(X >= 10) ≈ 0.999997371\n",
    "\n",
    "#### Probability that at least 10 bulbs are defective = 99.99%"
   ]
  },
  {
   "cell_type": "markdown",
   "id": "9a48a14a-4763-4262-8e8a-93dfa7d886ef",
   "metadata": {},
   "source": [
    "### c. What is the probability that at max 15 bulbs are defective?\n",
    "\n"
   ]
  },
  {
   "cell_type": "markdown",
   "id": "b9ac8e9d-c0e7-4d04-9a4b-f676f6e8d1ab",
   "metadata": {},
   "source": [
    "P(X <= 15) = P(X = 0) + P(X = 1) + P(X = 2) + ... + P(X = 15)\n",
    "\n",
    "P(X <= 15) = P(X = 0) + P(X = 1) + P(X = 2) + ... + P(X = 15)\n",
    "\n",
    "P(X <= 15) ≈ 0.9999999999\n",
    "\n",
    "#### Probability that at most 15 bulbs are defective = 99.99%\n"
   ]
  },
  {
   "cell_type": "markdown",
   "id": "3e96f498-d336-4397-8041-b91175bba3a5",
   "metadata": {},
   "source": [
    "### d. On average, how many defective bulbs would you expect in a batch of 500?"
   ]
  },
  {
   "cell_type": "markdown",
   "id": "01494636-5419-4022-aee1-43844d4a41b1",
   "metadata": {},
   "source": [
    "Average number of defective bulbs:\n",
    "\n",
    "μ = n * p\n",
    "\n",
    "μ = 500 * 0.05\n",
    "    \n",
    "μ = 25"
   ]
  },
  {
   "cell_type": "code",
   "execution_count": null,
   "id": "a88695b6-5371-46b9-be99-c908c316757e",
   "metadata": {},
   "outputs": [],
   "source": []
  }
 ],
 "metadata": {
  "kernelspec": {
   "display_name": "Python 3 (ipykernel)",
   "language": "python",
   "name": "python3"
  },
  "language_info": {
   "codemirror_mode": {
    "name": "ipython",
    "version": 3
   },
   "file_extension": ".py",
   "mimetype": "text/x-python",
   "name": "python",
   "nbconvert_exporter": "python",
   "pygments_lexer": "ipython3",
   "version": "3.10.8"
  }
 },
 "nbformat": 4,
 "nbformat_minor": 5
}
