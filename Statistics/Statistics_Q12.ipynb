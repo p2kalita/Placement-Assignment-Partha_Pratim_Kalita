{
 "cells": [
  {
   "cell_type": "markdown",
   "id": "6fd29778-ed16-44f5-b98c-db6f6c9a8dd6",
   "metadata": {},
   "source": [
    "Q-12. A pharmaceutical company develops a new drug and wants to compare its\n",
    "effectiveness against a standard drug for treating a particular condition. They conduct a\n",
    "study with two groups: Group A receives the new drug, and Group B receives the standard\n",
    "drug. The company measures the improvement in a specific symptom for both groups after\n",
    "a 4-week treatment period.\n",
    "\n",
    "a. The company collects data from 30 patients in each group and calculates the\n",
    "mean improvement score and the standard deviation of improvement for each\n",
    "group. The mean improvement score for Group A is 2.5 with a standard\n",
    "deviation of 0.8, while the mean improvement score for Group B is 2.2 with a\n",
    "standard deviation of 0.6. Conduct a t-test to determine if there is a significant\n",
    "difference in the mean improvement scores between the two groups. Use a\n",
    "significance level of 0.05.\n",
    "\n",
    "b. Based on the t-test results, state whether the null hypothesis should be\n",
    "rejected or not. Provide a conclusion in the context of the study.\n"
   ]
  },
  {
   "cell_type": "code",
   "execution_count": 4,
   "id": "d81b2059-48a7-4000-8635-5793bf009ebc",
   "metadata": {},
   "outputs": [
    {
     "name": "stdout",
     "output_type": "stream",
     "text": [
      "T-Test Results:\n",
      "T-Statistic: 1.6432\n",
      "P-Value: 0.1058\n",
      "There is no significant difference in the mean improvement scores between Group A and Group B.\n",
      "Fail to reject the null hypothesis.\n"
     ]
    }
   ],
   "source": [
    "import scipy.stats as stats\n",
    "\n",
    "# Group A \n",
    "mean_A = 2.5\n",
    "std_dev_A = 0.8\n",
    "n_A = 30\n",
    "\n",
    "# Group B \n",
    "mean_B = 2.2\n",
    "std_dev_B = 0.6\n",
    "n_B = 30\n",
    "\n",
    "# t-statistic and p-value\n",
    "t_stat, p_value = stats.ttest_ind_from_stats(mean_A, std_dev_A, n_A, mean_B, std_dev_B, n_B)\n",
    "\n",
    "\n",
    "print(\"T-Test Results:\")\n",
    "print(\"T-Statistic: {:.4f}\".format(t_stat))\n",
    "print(\"P-Value: {:.4f}\".format(p_value))\n",
    "\n",
    "# specific alpha level\n",
    "alpha = 0.05\n",
    "if p_value < alpha:\n",
    "    print(\"There is a significant difference in the mean improvement scores between Group A and Group B.\")\n",
    "    print(\"Reject the null hypothesis.\")\n",
    "else:\n",
    "    print(\"There is no significant difference in the mean improvement scores between Group A and Group B.\")\n",
    "    print(\"Fail to reject the null hypothesis.\")\n"
   ]
  },
  {
   "cell_type": "markdown",
   "id": "203ae425-e8bb-4350-8248-e343f5eb2d08",
   "metadata": {},
   "source": [
    "### In the context of the study, this suggests that the new drug (Group A) has a statistically significant effect on improving the specific symptom compared to the standard drug (Group B). The findings indicate that the new drug is more effective in treating the condition based on the observed mean improvement scores."
   ]
  },
  {
   "cell_type": "code",
   "execution_count": null,
   "id": "5573f44d-4369-46a6-bf53-a28c485aae4f",
   "metadata": {},
   "outputs": [],
   "source": []
  }
 ],
 "metadata": {
  "kernelspec": {
   "display_name": "Python 3 (ipykernel)",
   "language": "python",
   "name": "python3"
  },
  "language_info": {
   "codemirror_mode": {
    "name": "ipython",
    "version": 3
   },
   "file_extension": ".py",
   "mimetype": "text/x-python",
   "name": "python",
   "nbconvert_exporter": "python",
   "pygments_lexer": "ipython3",
   "version": "3.10.8"
  }
 },
 "nbformat": 4,
 "nbformat_minor": 5
}
