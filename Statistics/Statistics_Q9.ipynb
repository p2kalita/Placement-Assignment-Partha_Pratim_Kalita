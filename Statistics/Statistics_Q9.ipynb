{
 "cells": [
  {
   "cell_type": "markdown",
   "id": "7a99b673-f231-4170-a186-4718b802c66b",
   "metadata": {},
   "source": [
    "Q-9. Given the score of students in multiple exams\n",
    "\n",
    "Test the hypothesis that the mean scores of all the students are the same. If not, name the\n",
    "student with the highest score.\n"
   ]
  },
  {
   "cell_type": "code",
   "execution_count": 2,
   "id": "7f0e556a-b651-42b2-a1ff-434ac27bcb95",
   "metadata": {},
   "outputs": [
    {
     "name": "stdout",
     "output_type": "stream",
     "text": [
      "One-Way ANOVA test:\n",
      "F-value: 0.32\n",
      "P-value: 0.729595\n",
      "There is no significant difference in the mean scores of the students.\n"
     ]
    }
   ],
   "source": [
    "import pandas as pd\n",
    "import scipy.stats as stats\n",
    "\n",
    "# DataFrame \n",
    "data = {\n",
    "    \"Name\": [\"Karan\", \"Deepa\", \"Karthik\", \"Chandan\", \"Jeevan\"],\n",
    "    \"Exam 1\": [85, 70, 90, 75, 95],\n",
    "    \"Exam 2\": [90, 80, 85, 70, 92],\n",
    "    \"Final Exam\": [92, 85, 88, 75, 96]\n",
    "}\n",
    "df = pd.DataFrame(data)\n",
    "\n",
    "# one-way ANOVA test\n",
    "f_value, p_value = stats.f_oneway(df[\"Exam 1\"], df[\"Exam 2\"], df[\"Final Exam\"])\n",
    "\n",
    "# Print the test result\n",
    "print(\"One-Way ANOVA test:\")\n",
    "print(\"F-value: {:.2f}\".format(f_value))\n",
    "print(\"P-value: {:.6f}\".format(p_value))\n",
    "\n",
    "# Check the significance at a specific alpha level\n",
    "alpha = 0.05\n",
    "if p_value < alpha:\n",
    "    print(\"There is a significant difference in the mean scores of the students.\")\n",
    "    # Find the student with the highest score\n",
    "    highest_score_student = df.loc[df[\"Final Exam\"].idxmax(), \"Name\"]\n",
    "    print(\"The student with the highest score is {}.\".format(highest_score_student))\n",
    "else:\n",
    "    print(\"There is no significant difference in the mean scores of the students.\")\n"
   ]
  },
  {
   "cell_type": "code",
   "execution_count": null,
   "id": "6cb5d2fe-9de6-4747-98f4-e5fc7852fd50",
   "metadata": {},
   "outputs": [],
   "source": []
  }
 ],
 "metadata": {
  "kernelspec": {
   "display_name": "Python 3 (ipykernel)",
   "language": "python",
   "name": "python3"
  },
  "language_info": {
   "codemirror_mode": {
    "name": "ipython",
    "version": 3
   },
   "file_extension": ".py",
   "mimetype": "text/x-python",
   "name": "python",
   "nbconvert_exporter": "python",
   "pygments_lexer": "ipython3",
   "version": "3.10.8"
  }
 },
 "nbformat": 4,
 "nbformat_minor": 5
}
