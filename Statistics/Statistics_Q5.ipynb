{
 "cells": [
  {
   "cell_type": "markdown",
   "id": "6153f4e1",
   "metadata": {},
   "source": [
    "### Q5. A certain city has two taxi companies: Company A has 80% of the taxis and Company B has 20% of the taxis. Company A's taxis have a 95% success rate for picking up passengers on time, while Company B's taxis have a 90% success rate. If a randomly selected taxi is late, what is the probability that it belongs to Company A?"
   ]
  },
  {
   "cell_type": "markdown",
   "id": "c716ffda",
   "metadata": {},
   "source": [
    "#### Ans5. To solve this problem, we can use Bayes' theorem to calculate the probability that a randomly selected taxi belongs to Company A given that it is late.\n",
    "\n",
    "Let's denote the following probabilities:\n",
    "\n",
    "##### P(A): Probability that a randomly selected taxi belongs to Company A (80% or 0.8).\n",
    "##### P(B): Probability that a randomly selected taxi belongs to Company B (20% or 0.2).\n",
    "##### P(L|A): Probability that a taxi from Company A is late (1 - success rate = 1 - 0.95 = 0.05).\n",
    "##### P(L|B): Probability that a taxi from Company B is late (1 - success rate = 1 - 0.90 = 0.10).\n",
    "\n",
    "We need to calculate P(A|L), the probability that a taxi belongs to Company A given that it is late.\n",
    "\n",
    "According to Bayes' theorem:\n",
    "P(A|L) = (P(L|A) * P(A)) / P(L)\n",
    "\n",
    "To calculate P(L), the probability that a taxi is late, we can use the law of total probability:\n",
    "P(L) = P(L|A) * P(A) + P(L|B) * P(B)\n",
    "\n",
    "Now let's plug in the values:\n",
    "\n",
    "P(L) = (0.05 * 0.8) + (0.10 * 0.2)\n",
    "= 0.04 + 0.02\n",
    "= 0.06\n",
    "\n",
    "P(A|L) = (0.05 * 0.8) / 0.06\n",
    "= 0.04 / 0.06\n",
    "= 4/6\n",
    "= 2/3\n",
    "≈ 0.6667\n",
    "\n",
    "##### Therefore, the probability that a randomly selected taxi, which is late, belongs to Company A is approximately 0.6667 or 66.67%.\n",
    "\n",
    "\n",
    "\n"
   ]
  },
  {
   "cell_type": "code",
   "execution_count": null,
   "id": "4fc17e5b",
   "metadata": {},
   "outputs": [],
   "source": []
  }
 ],
 "metadata": {
  "kernelspec": {
   "display_name": "Python 3 (ipykernel)",
   "language": "python",
   "name": "python3"
  },
  "language_info": {
   "codemirror_mode": {
    "name": "ipython",
    "version": 3
   },
   "file_extension": ".py",
   "mimetype": "text/x-python",
   "name": "python",
   "nbconvert_exporter": "python",
   "pygments_lexer": "ipython3",
   "version": "3.10.9"
  }
 },
 "nbformat": 4,
 "nbformat_minor": 5
}
