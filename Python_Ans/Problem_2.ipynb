{
 "cells": [
  {
   "cell_type": "markdown",
   "id": "5b7143e5",
   "metadata": {},
   "source": [
    "# Q2.Consider a string to be valid if all characters of the string appear the same number of times. It is also valid if he can remove just one character at the index in the string, and the remaining characters will occur the same number of times. Given a string, determine if it is valid. If so, return YES , otherwise return NO. Note - You have to write at least 2 additional test cases in which your program will run successfully and provide an explanation for the same."
   ]
  },
  {
   "cell_type": "code",
   "execution_count": 1,
   "id": "e35ae754",
   "metadata": {},
   "outputs": [],
   "source": [
    "def is_valid_string(string):\n",
    "    char_freq = {}\n",
    "    for char in string:\n",
    "        if char in char_freq:\n",
    "            char_freq[char] += 1\n",
    "        else:\n",
    "            char_freq[char] = 1\n",
    "\n",
    "    freq_values = set(char_freq.values())\n",
    "\n",
    "    # If all characters have the same frequency, the string is already valid\n",
    "    if len(freq_values) == 1:\n",
    "        return \"YES\"\n",
    "\n",
    "    # If more than two different frequencies, it's not possible to make the string valid\n",
    "    if len(freq_values) > 2:\n",
    "        return \"NO\"\n",
    "\n",
    "    # If exactly two different frequencies, check if removing one character makes the string valid\n",
    "    freq_counts = list(char_freq.values())\n",
    "    freq_counts.sort()\n",
    "\n",
    "    if freq_counts[0] == 1 and freq_counts.count(freq_counts[0]) == 1:\n",
    "        return \"YES\"  # Removing the character with frequency 1 makes the string valid\n",
    "\n",
    "    if freq_counts[-1] - freq_counts[-2] == 1 and freq_counts.count(freq_counts[-1]) == 1:\n",
    "        return \"YES\"  # Removing the character with the highest frequency makes the string valid\n",
    "\n",
    "    return \"NO\"  # Removing one character does not make the string valid"
   ]
  },
  {
   "cell_type": "code",
   "execution_count": 2,
   "id": "f2564991",
   "metadata": {},
   "outputs": [
    {
     "name": "stdout",
     "output_type": "stream",
     "text": [
      "YES\n",
      "YES\n",
      "NO\n",
      "YES\n"
     ]
    }
   ],
   "source": [
    "# Testing the function with examples\n",
    "string1 = \"abcde\"\n",
    "print(is_valid_string(string1)) # Output: YES \n",
    "# Explanation: All characters appear once, so the string is already valid.\n",
    "\n",
    "string2 = \"aabbc\"\n",
    "print(is_valid_string(string2)) # Output: YES\n",
    "# Explanation: the characters in the string do not appear the same number of times but if we remove one character 'c' at index 4 in the string, the remaining characters will occur the same number of times.\n",
    "\n",
    "string3 = \"aabbcd\"\n",
    "print(is_valid_string(string3))  # Output: NO\n",
    "# Explanation: Removing any character will result in different frequencies for the remaining characters.\n",
    "\n",
    "string4 = \"aabbccc\"\n",
    "print(is_valid_string(string4))  # Output: YES\n",
    "# Explanation: Removing one 'c' will result in all characters having the same frequency (2)."
   ]
  },
  {
   "cell_type": "code",
   "execution_count": null,
   "id": "c40b4f41",
   "metadata": {},
   "outputs": [],
   "source": []
  }
 ],
 "metadata": {
  "kernelspec": {
   "display_name": "Python 3 (ipykernel)",
   "language": "python",
   "name": "python3"
  },
  "language_info": {
   "codemirror_mode": {
    "name": "ipython",
    "version": 3
   },
   "file_extension": ".py",
   "mimetype": "text/x-python",
   "name": "python",
   "nbconvert_exporter": "python",
   "pygments_lexer": "ipython3",
   "version": "3.10.9"
  }
 },
 "nbformat": 4,
 "nbformat_minor": 5
}
