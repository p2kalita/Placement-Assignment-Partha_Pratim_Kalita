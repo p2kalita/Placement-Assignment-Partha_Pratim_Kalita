{
 "cells": [
  {
   "cell_type": "markdown",
   "id": "439467cd",
   "metadata": {},
   "source": [
    "# Q10.Write a program to count the number of verbs, nouns, pronouns, and adjectives in a given particular phrase or paragraph, and return their respective count as a dictionary.\n",
    "\n",
    "Note:-\n",
    "1. Write code comments wherever required for code\n",
    "2. You have to write at least 2 additional test cases in which your program will run successfully and provide an explanation for the same."
   ]
  },
  {
   "cell_type": "code",
   "execution_count": 1,
   "id": "5dfa93e3",
   "metadata": {},
   "outputs": [
    {
     "name": "stderr",
     "output_type": "stream",
     "text": [
      "[nltk_data] Downloading package averaged_perceptron_tagger to\n",
      "[nltk_data]     C:\\Users\\z_parthak\\AppData\\Roaming\\nltk_data...\n",
      "[nltk_data]   Unzipping taggers\\averaged_perceptron_tagger.zip.\n",
      "[nltk_data] Downloading package stopwords to\n",
      "[nltk_data]     C:\\Users\\z_parthak\\AppData\\Roaming\\nltk_data...\n",
      "[nltk_data]   Unzipping corpora\\stopwords.zip.\n",
      "[nltk_data] Downloading package punkt to\n",
      "[nltk_data]     C:\\Users\\z_parthak\\AppData\\Roaming\\nltk_data...\n",
      "[nltk_data]   Unzipping tokenizers\\punkt.zip.\n"
     ]
    },
    {
     "name": "stdout",
     "output_type": "stream",
     "text": [
      "{'Noun': 4, 'Verb': 0, 'Adjective': 2, 'Pronoun': 0}\n",
      "{'Noun': 1, 'Verb': 2, 'Adjective': 1, 'Pronoun': 2}\n",
      "{'Noun': 2, 'Verb': 1, 'Adjective': 0, 'Pronoun': 1}\n"
     ]
    }
   ],
   "source": [
    "import nltk\n",
    "from nltk.corpus import stopwords\n",
    "from nltk.tokenize import word_tokenize, sent_tokenize\n",
    "from collections import Counter\n",
    "\n",
    "nltk.download('averaged_perceptron_tagger')\n",
    "nltk.download('stopwords')\n",
    "nltk.download('punkt')\n",
    "\n",
    "def count_pos(text):\n",
    "    stop_words = set(stopwords.words('english'))\n",
    "    words = word_tokenize(text)\n",
    "    words = [word for word in words if word.isalpha()]\n",
    "    words = [word for word in words if not word in stop_words]\n",
    "    \n",
    "    tagged = nltk.pos_tag(words)\n",
    "    \n",
    "    counts = Counter(tag for word, tag in tagged)\n",
    "    \n",
    "    pos_counts = {}\n",
    "    pos_counts['Noun'] = counts['NN'] + counts['NNS'] + counts['NNP'] + counts['NNPS']\n",
    "    pos_counts['Verb'] = counts['VB'] + counts['VBD'] + counts['VBG'] + counts['VBN'] + counts['VBP'] + counts['VBZ']\n",
    "    pos_counts['Adjective'] = counts['JJ'] + counts['JJR'] + counts['JJS']\n",
    "    pos_counts['Pronoun'] = counts['PRP'] + counts['PRP$']\n",
    "    \n",
    "    return pos_counts\n",
    "\n",
    "text = \"The quick brown fox jumps over the lazy dog.\"\n",
    "print(count_pos(text))\n",
    "\n",
    "# Test case 1\n",
    "text1 = \"I am happy because I am learning something new.\"\n",
    "print(count_pos(text1))\n",
    "\n",
    "# Test case 2\n",
    "text2 = \"She sells seashells by the seashore.\"\n",
    "print(count_pos(text2))\n"
   ]
  },
  {
   "cell_type": "code",
   "execution_count": null,
   "id": "63705c51",
   "metadata": {},
   "outputs": [],
   "source": []
  }
 ],
 "metadata": {
  "kernelspec": {
   "display_name": "Python 3 (ipykernel)",
   "language": "python",
   "name": "python3"
  },
  "language_info": {
   "codemirror_mode": {
    "name": "ipython",
    "version": 3
   },
   "file_extension": ".py",
   "mimetype": "text/x-python",
   "name": "python",
   "nbconvert_exporter": "python",
   "pygments_lexer": "ipython3",
   "version": "3.10.9"
  }
 },
 "nbformat": 4,
 "nbformat_minor": 5
}
