{
 "cells": [
  {
   "cell_type": "markdown",
   "id": "0b299d6b",
   "metadata": {},
   "source": [
    "# Q4. Write a program to download the data from the link given below and then read the data and convert the into the proper structure and return it as a CSV file.\n",
    "\n",
    "Link - https://data.nasa.gov/resource/y77d-th95.json\n",
    "\n",
    "Note - Write code comments wherever needed for code understanding.\n",
    "\n",
    "Excepted Output Data Attributes\n",
    "1. Name of Earth Meteorite - string id - ID of Earth\n",
    "2. Meteorite - int nametype - string recclass - string\n",
    "3. mass - Mass of Earth Meteorite - float year - Year at which Earth\n",
    "4. Meteorite was hit - datetime format reclat - float recclong - float\n",
    "5. point coordinates - list of int"
   ]
  },
  {
   "cell_type": "code",
   "execution_count": 1,
   "id": "15dbac41",
   "metadata": {},
   "outputs": [
    {
     "name": "stdout",
     "output_type": "stream",
     "text": [
      "Data successfully converted and saved to meteorite_data.csv.\n"
     ]
    }
   ],
   "source": [
    "import requests\n",
    "import pandas as pd\n",
    "\n",
    "def download_data(url):\n",
    "    response = requests.get(url)\n",
    "    if response.status_code == 200:\n",
    "        return response.json()\n",
    "    else:\n",
    "        raise Exception(f\"Failed to download data. Status code: {response.status_code}\")\n",
    "\n",
    "def convert_to_dataframe(data):\n",
    "    meteorite_data = []\n",
    "    for meteorite in data:\n",
    "        meteorite_info = {\n",
    "            \"name\": meteorite.get(\"name\", \"\"),\n",
    "            \"id\": meteorite.get(\"id\", \"\"),\n",
    "            \"nametype\": meteorite.get(\"nametype\", \"\"),\n",
    "            \"recclass\": meteorite.get(\"recclass\", \"\"),\n",
    "            \"mass\": meteorite.get(\"mass (g)\", 0.0),\n",
    "            \"year\": meteorite.get(\"year\", \"\"),\n",
    "            \"reclat\": meteorite.get(\"reclat\", 0.0),\n",
    "            \"reclong\": meteorite.get(\"reclong\", 0.0),\n",
    "            \"coordinates\": [meteorite.get(\"reclat\", 0.0), meteorite.get(\"reclong\", 0.0)]\n",
    "        }\n",
    "        meteorite_data.append(meteorite_info)\n",
    "\n",
    "\n",
    "    df = pd.DataFrame(meteorite_data)\n",
    "\n",
    "    return df\n",
    "\n",
    "def save_to_csv(dataframe, output_file):\n",
    "    dataframe.to_csv(output_file, index=False)\n",
    "\n",
    "data_url = \"https://data.nasa.gov/resource/y77d-th95.json\"\n",
    "downloaded_data = download_data(data_url)\n",
    "\n",
    "meteorite_df = convert_to_dataframe(downloaded_data)\n",
    "\n",
    "output_csv_file = \"meteorite_data.csv\"\n",
    "save_to_csv(meteorite_df, output_csv_file)\n",
    "\n",
    "print(f\"Data successfully converted and saved to {output_csv_file}.\")\n"
   ]
  },
  {
   "cell_type": "code",
   "execution_count": null,
   "id": "5de15960",
   "metadata": {},
   "outputs": [],
   "source": []
  }
 ],
 "metadata": {
  "kernelspec": {
   "display_name": "Python 3 (ipykernel)",
   "language": "python",
   "name": "python3"
  },
  "language_info": {
   "codemirror_mode": {
    "name": "ipython",
    "version": 3
   },
   "file_extension": ".py",
   "mimetype": "text/x-python",
   "name": "python",
   "nbconvert_exporter": "python",
   "pygments_lexer": "ipython3",
   "version": "3.10.9"
  }
 },
 "nbformat": 4,
 "nbformat_minor": 5
}
