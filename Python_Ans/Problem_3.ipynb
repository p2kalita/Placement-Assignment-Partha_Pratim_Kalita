{
 "cells": [
  {
   "cell_type": "markdown",
   "id": "8b39bea5",
   "metadata": {},
   "source": [
    "### Q3. Write a program, which would download the data from the provided link, and then read the data and convert that into properly structured data and return it in Excel format. Note - Write comments wherever necessary explaining the code written.\n",
    "\n",
    "#### Link - https://raw.githubusercontent.com/Biuni/PokemonGO-Pokedex/master/pokedex.json\n",
    "\n",
    "Data Attributes - id: Identification Number - int num: Number of the\n",
    " 1. Pokémon in the official Pokédex - int name: Pokémon name -\n",
    " 2. string img: URL to an image of this Pokémon - string type:\n",
    " 3.  Pokémon type -string height: Pokémon height - float\n",
    " 4.  weight: Pokémon weight - float candy: type of candy used to evolve Pokémon or given\n",
    " 5. when transferred - string candy_count: the amount of candies required to evolve- int\n",
    " 6. egg: Number of kilometers to travel to hatch the egg - float spawn_chance:\n",
    " 7. Percentage of spawn chance (NEW) - float avg_spawns: Number of this pokemon on 10.000 spawns (NEW) - int\n",
    " 8. spawn_time: Spawns most active at the time on this field. Spawn times are the same for all time zones and are expressed in local time. (NEW) - “minutes: seconds” multipliers:\n",
    "     Multiplier of Combat Power (CP) for calculating the CP after evolution See below - list of int weakness: Types of\n",
    " 9. Pokémon this Pokémon is weak to - list of strings next_evolution: Number and Name ofsuccessive evolutions of Pokémon - list   of dict prev_evolution: Number and Name of previous evolutions of Pokémon - - list of dict"
   ]
  },
  {
   "cell_type": "code",
   "execution_count": 2,
   "id": "23455fe5",
   "metadata": {},
   "outputs": [
    {
     "name": "stdout",
     "output_type": "stream",
     "text": [
      "Data successfully converted and saved to pokemon_data.xlsx.\n"
     ]
    }
   ],
   "source": [
    "import requests\n",
    "import json\n",
    "import pandas as pd\n",
    "\n",
    "\n",
    "def download_data(url):\n",
    "    response = requests.get(url)\n",
    "    if response.status_code == 200:\n",
    "        return response.content\n",
    "    else:\n",
    "        raise Exception(f\"Failed to download data. Status code: {response.status_code}\")\n",
    "\n",
    "\n",
    "def convert_to_dataframe(data):\n",
    "    json_data = json.loads(data)\n",
    "    pokemon_list = json_data[\"pokemon\"]\n",
    "    pokemon_data = []\n",
    "    for pokemon in pokemon_list:\n",
    "        pokemon_info = {\n",
    "            \"id\": pokemon[\"id\"],\n",
    "            \"num\": pokemon[\"num\"],\n",
    "            \"name\": pokemon[\"name\"],\n",
    "            \"img\": pokemon[\"img\"],\n",
    "            \"type\": \", \".join(pokemon[\"type\"]),\n",
    "            \"height\": pokemon[\"height\"],\n",
    "            \"weight\": pokemon[\"weight\"],\n",
    "            \"candy\": pokemon.get(\"candy\", \"\"),\n",
    "            \"candy_count\": pokemon.get(\"candy_count\", 0),\n",
    "            \"egg\": pokemon.get(\"egg\", \"\"),\n",
    "            \"spawn_chance\": pokemon.get(\"spawn_chance\", 0.0),\n",
    "            \"avg_spawns\": pokemon.get(\"avg_spawns\", 0),\n",
    "            \"spawn_time\": pokemon.get(\"spawn_time\", \"\"),\n",
    "            \"multipliers\": \", \".join(str(multiplier) for multiplier in pokemon.get(\"multipliers\") or []),\n",
    "            \"weakness\": \", \".join(pokemon.get(\"weaknesses\", [])),\n",
    "            \"next_evolution\": \", \".join(evolution[\"name\"] for evolution in pokemon.get(\"next_evolution\", [])),\n",
    "            \"prev_evolution\": \", \".join(evolution[\"name\"] for evolution in pokemon.get(\"prev_evolution\", []))\n",
    "        }\n",
    "        pokemon_data.append(pokemon_info)\n",
    "    df = pd.DataFrame(pokemon_data)\n",
    "\n",
    "    return df\n",
    "\n",
    "\n",
    "def save_to_excel(dataframe, output_file):\n",
    "    dataframe.to_excel(output_file, index=False)\n",
    "\n",
    "\n",
    "data_url = \"https://raw.githubusercontent.com/Biuni/PokemonGO-Pokedex/master/pokedex.json\"\n",
    "\n",
    "downloaded_data = download_data(data_url)\n",
    "\n",
    "pokemon_df = convert_to_dataframe(downloaded_data)\n",
    "\n",
    "output_excel_file = \"pokemon_data.xlsx\"\n",
    "save_to_excel(pokemon_df, output_excel_file)\n",
    "\n",
    "print(f\"Data successfully converted and saved to {output_excel_file}.\")\n"
   ]
  },
  {
   "cell_type": "code",
   "execution_count": null,
   "id": "64cccdb4",
   "metadata": {},
   "outputs": [],
   "source": []
  }
 ],
 "metadata": {
  "kernelspec": {
   "display_name": "Python 3 (ipykernel)",
   "language": "python",
   "name": "python3"
  },
  "language_info": {
   "codemirror_mode": {
    "name": "ipython",
    "version": 3
   },
   "file_extension": ".py",
   "mimetype": "text/x-python",
   "name": "python",
   "nbconvert_exporter": "python",
   "pygments_lexer": "ipython3",
   "version": "3.10.9"
  }
 },
 "nbformat": 4,
 "nbformat_minor": 5
}
