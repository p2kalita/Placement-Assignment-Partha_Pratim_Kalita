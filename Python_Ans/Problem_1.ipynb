{
 "cells": [
  {
   "cell_type": "markdown",
   "id": "84678c25",
   "metadata": {},
   "source": [
    "# Q1.Write a program that takes a string as input, and counts the frequency of each word in the string, there might be repeated characters in the string. Your task is to find the highest frequency and returns the length of the highest-frequency word.\n",
    "Note - You have to write at least 2 additional test cases in which your program will run successfully and provide an explanation for the same.\n"
   ]
  },
  {
   "cell_type": "code",
   "execution_count": 8,
   "id": "a052a6d0",
   "metadata": {},
   "outputs": [],
   "source": [
    "#Ans1. Here's a Python program that counts the frequency of each word in a string and returns the length of the highest-frequency word:\n",
    "\n",
    "def highest_frequency_word_length(s: str) -> int:\n",
    "    \n",
    "# Split the string into words\n",
    "    words = s.split()\n",
    "\n",
    "# Count the frequency of each word\n",
    "    word_freq = {}\n",
    "    for word in words:\n",
    "        if word in word_freq:\n",
    "            word_freq[word] += 1\n",
    "        else:\n",
    "            word_freq[word] = 1\n",
    "\n",
    "# Find the highest frequency\n",
    "    max_freq = max(word_freq.values())\n",
    "\n",
    "# Find the length of the highest-frequency word\n",
    "    highest_freq_word_length = max(len(word) for word in word_freq if word_freq[word] == max_freq)\n",
    "\n",
    "    return highest_freq_word_length"
   ]
  },
  {
   "cell_type": "code",
   "execution_count": 9,
   "id": "bb2b061c",
   "metadata": {},
   "outputs": [
    {
     "name": "stdout",
     "output_type": "stream",
     "text": [
      "5\n"
     ]
    }
   ],
   "source": [
    "# Example\n",
    "s = \"write write write all the number from from from 1 to 100\"\n",
    "print(highest_frequency_word_length(s))\n",
    "\n",
    "#Explanation - From the given string we can note that the most frequent words are “write” and “from” and the maximum value of both the values is “write” and its corresponding length is 5"
   ]
  },
  {
   "cell_type": "code",
   "execution_count": 10,
   "id": "008670b1",
   "metadata": {},
   "outputs": [
    {
     "name": "stdout",
     "output_type": "stream",
     "text": [
      "6\n"
     ]
    }
   ],
   "source": [
    "#additional test cases:\n",
    "\n",
    "s= \"apple apple apple banana banana orange orange orange\"\n",
    "    \n",
    "print(highest_frequency_word_length(s))\n",
    "\n",
    "#Explanation: The word \"banana\" appears 2 times ,\"orange\" appears 3 times and apple also appears 3 times. The highest frequency is 3, and the highest-frequency word \"orange\" has a length of 6.\n",
    "\n"
   ]
  },
  {
   "cell_type": "code",
   "execution_count": 11,
   "id": "fa50e6ff",
   "metadata": {},
   "outputs": [
    {
     "name": "stdout",
     "output_type": "stream",
     "text": [
      "1\n"
     ]
    }
   ],
   "source": [
    "s= \"A A A A C A B B C\"\n",
    "    \n",
    "print(highest_frequency_word_length(s))\n",
    "\n",
    "#Explanation: The word \"A\" appears 5 times, the word \"B\" appears 2 times, and the word \"C\" appears 1 time. The highest frequency is 5, and the highest-frequency word \"A\" has a length of 1."
   ]
  },
  {
   "cell_type": "code",
   "execution_count": null,
   "id": "567e3116",
   "metadata": {},
   "outputs": [],
   "source": []
  }
 ],
 "metadata": {
  "kernelspec": {
   "display_name": "Python 3 (ipykernel)",
   "language": "python",
   "name": "python3"
  },
  "language_info": {
   "codemirror_mode": {
    "name": "ipython",
    "version": 3
   },
   "file_extension": ".py",
   "mimetype": "text/x-python",
   "name": "python",
   "nbconvert_exporter": "python",
   "pygments_lexer": "ipython3",
   "version": "3.10.9"
  }
 },
 "nbformat": 4,
 "nbformat_minor": 5
}
