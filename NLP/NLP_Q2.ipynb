{
 "cells": [
  {
   "cell_type": "markdown",
   "id": "298153a8-0931-4487-9b48-cacf71b4f682",
   "metadata": {},
   "source": [
    "Q-2. Take any pdf and your task is to extract the text from that pdf and store it in a\n",
    "csv file and then you need to find the most repeated word in that pdf."
   ]
  },
  {
   "cell_type": "code",
   "execution_count": 4,
   "id": "31b64a3b-f436-4d57-ab91-9e4136f5aa94",
   "metadata": {},
   "outputs": [
    {
     "name": "stdout",
     "output_type": "stream",
     "text": [
      "Most Repeated Word: the\n"
     ]
    }
   ],
   "source": [
    "import PyPDF2\n",
    "import pandas as pd\n",
    "from collections import Counter\n",
    "\n",
    "# extract text from PDF\n",
    "def extract_text_from_pdf(file_path):\n",
    "    with open(file_path, 'rb') as file:\n",
    "        reader = PyPDF2.PdfReader(file)\n",
    "        text = ''\n",
    "        for page in reader.pages:\n",
    "            text += page.extract_text()\n",
    "        return text\n",
    "\n",
    "# Path \n",
    "pdf_file = 'LLD.pdf'\n",
    "\n",
    "\n",
    "text = extract_text_from_pdf(pdf_file)\n",
    "\n",
    "#  CSV file\n",
    "data = {'Text': [text]}\n",
    "df = pd.DataFrame(data)\n",
    "csv_file = 'file.csv'\n",
    "df.to_csv(csv_file, index=False)\n",
    "\n",
    "# most repeated word\n",
    "words = text.split()\n",
    "word_count = Counter(words)\n",
    "most_common_word = word_count.most_common(1)[0][0]\n",
    "\n",
    "print(\"Most Repeated Word:\", most_common_word)\n",
    "\n"
   ]
  },
  {
   "cell_type": "code",
   "execution_count": null,
   "id": "005ed1c6-9d0d-4903-93a2-3acd5ad18c42",
   "metadata": {},
   "outputs": [],
   "source": []
  }
 ],
 "metadata": {
  "kernelspec": {
   "display_name": "Python 3 (ipykernel)",
   "language": "python",
   "name": "python3"
  },
  "language_info": {
   "codemirror_mode": {
    "name": "ipython",
    "version": 3
   },
   "file_extension": ".py",
   "mimetype": "text/x-python",
   "name": "python",
   "nbconvert_exporter": "python",
   "pygments_lexer": "ipython3",
   "version": "3.10.8"
  }
 },
 "nbformat": 4,
 "nbformat_minor": 5
}
